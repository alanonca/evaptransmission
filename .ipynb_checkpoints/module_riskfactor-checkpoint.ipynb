{
 "cells": [
  {
   "cell_type": "code",
   "execution_count": null,
   "metadata": {},
   "outputs": [],
   "source": [
    "import module_initsize\n",
    "import numpy as np\n",
    "import settle\n",
    "import viability\n",
    "\n",
    "def riskfactor(dailyT,dailyRH,mode):\n",
    "    \n",
    "    mode_to_test = mode\n",
    "    \n",
    "    if mode_to_test == 'speaking':\n",
    "        [sizeclass,numcon,t_settle,sizepeak,t_peak] = module_initsize.speaking(T,RH)\n",
    "        NaCl_con = 80.0/1000; # 80.0 mmol/L converted to mol/L for saliva, from Kallapur et al.\n",
    "    elif mode_to_test == 'coughing':\n",
    "        [sizeclass,numcon,t_settle,sizepeak,t_peak] = module_initsize.coughing(T,RH)\n",
    "        NaCl_con = 91.0/1000; # Didn't find any data on dry cough droplet sodium level, here I assume it's close to mouth breathing?\n",
    "    elif mode_to_test == 'breathing':\n",
    "        [sizeclass,numcon,t_settle,sizepeak,t_peak] = module_initsize.breathing(T,RH)\n",
    "    for binnum in range(len(sizeclass)):\n",
    "        size = sizeclass[binnum]\n",
    "        count = numcon[binnum]\n",
    "        dropvol = 4/3 * np.pi*((size/2)**3) * (10**(-12)) # droplet volume converted to mL\n",
    "        poi_lambda = viralload * dropvol # in viral particles per droplet\n",
    "        decay_rate = viability.kdecay(T,RH,1.9)\n",
    "        if size > 10:\n",
    "            settling_time = settle.settling_time(T,RH,size,NaCl_con,1.5,model='empirical_big')\n",
    "        else:\n",
    "            settling_time = settle.settling_time(T,RH,size,NaCl_con,1.5,model='empirical_small')\n",
    "    viable_numcon_10min = count*poi_lambda* np.exp(- decay_rate * (1/6) * 60) \n",
    "    risk_10min = viable_numcon_10min * np.maximum(1-((1/6)/settling_time),0)\n",
    "    risk_fac = risk_fac + risk_10min # sum up the risk factors for a total risk at this T and RH condition\n",
    "    \n",
    "    return risk_fac"
   ]
  }
 ],
 "metadata": {
  "kernelspec": {
   "display_name": "Python 3",
   "language": "python",
   "name": "python3"
  },
  "language_info": {
   "codemirror_mode": {
    "name": "ipython",
    "version": 3
   },
   "file_extension": ".py",
   "mimetype": "text/x-python",
   "name": "python",
   "nbconvert_exporter": "python",
   "pygments_lexer": "ipython3",
   "version": "3.5.3"
  }
 },
 "nbformat": 4,
 "nbformat_minor": 2
}
