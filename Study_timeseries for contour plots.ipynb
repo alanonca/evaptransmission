{
 "cells": [
  {
   "cell_type": "code",
   "execution_count": 3,
   "metadata": {},
   "outputs": [],
   "source": [
    "from numpy import savetxt\n",
    "import numpy as np"
   ]
  },
  {
   "cell_type": "code",
   "execution_count": 11,
   "metadata": {},
   "outputs": [],
   "source": [
    "tset = []\n",
    "viab_hl = []\n",
    "tset_span = np.linspace(7.7, 14.4,10, endpoint=True)\n",
    "viab_span = np.linspace(20.8,69.4,30, endpoint=True) \n",
    "for i in range(len(tset_span)):\n",
    "    ts = tset_span[i]\n",
    "    for j in range(len(viab_span)):\n",
    "        vi = viab_span[j]\n",
    "        tset.append(ts)\n",
    "        viab_hl.append(vi)\n",
    "        \n",
    "outputdata = [tset,viab_hl]\n",
    "savetxt('contourdata_SantaClara.csv', outputdata, delimiter=',')"
   ]
  },
  {
   "cell_type": "code",
   "execution_count": null,
   "metadata": {},
   "outputs": [],
   "source": []
  }
 ],
 "metadata": {
  "kernelspec": {
   "display_name": "Python 3",
   "language": "python",
   "name": "python3"
  },
  "language_info": {
   "codemirror_mode": {
    "name": "ipython",
    "version": 3
   },
   "file_extension": ".py",
   "mimetype": "text/x-python",
   "name": "python",
   "nbconvert_exporter": "python",
   "pygments_lexer": "ipython3",
   "version": "3.5.3"
  }
 },
 "nbformat": 4,
 "nbformat_minor": 2
}
