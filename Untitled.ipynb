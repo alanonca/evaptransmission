{
 "cells": [
  {
   "cell_type": "code",
   "execution_count": 1,
   "metadata": {},
   "outputs": [
    {
     "name": "stdout",
     "output_type": "stream",
     "text": [
      "2020-08-01\n",
      "2020-08-02\n",
      "2020-08-03\n",
      "2020-08-04\n",
      "2020-08-05\n",
      "2020-08-06\n",
      "2020-08-07\n",
      "2020-08-08\n",
      "2020-08-09\n",
      "2020-08-10\n",
      "2020-08-11\n",
      "2020-08-12\n",
      "2020-08-13\n",
      "2020-08-14\n",
      "2020-08-15\n",
      "2020-08-16\n",
      "2020-08-17\n",
      "2020-08-18\n",
      "2020-08-19\n",
      "2020-08-20\n",
      "2020-08-21\n",
      "2020-08-22\n",
      "2020-08-23\n",
      "2020-08-24\n",
      "2020-08-25\n",
      "2020-08-26\n",
      "2020-08-27\n",
      "2020-08-28\n",
      "2020-08-29\n"
     ]
    },
    {
     "data": {
      "text/plain": [
       "<Figure size 640x480 with 1 Axes>"
      ]
     },
     "metadata": {},
     "output_type": "display_data"
    },
    {
     "data": {
      "text/plain": [
       "<Figure size 640x480 with 1 Axes>"
      ]
     },
     "metadata": {},
     "output_type": "display_data"
    },
    {
     "data": {
      "text/plain": [
       "<Figure size 640x480 with 1 Axes>"
      ]
     },
     "metadata": {},
     "output_type": "display_data"
    },
    {
     "data": {
      "text/plain": [
       "<Figure size 640x480 with 1 Axes>"
      ]
     },
     "metadata": {},
     "output_type": "display_data"
    },
    {
     "data": {
      "text/plain": [
       "<Figure size 640x480 with 1 Axes>"
      ]
     },
     "metadata": {},
     "output_type": "display_data"
    },
    {
     "data": {
      "text/plain": [
       "<Figure size 640x480 with 1 Axes>"
      ]
     },
     "metadata": {},
     "output_type": "display_data"
    },
    {
     "data": {
      "text/plain": [
       "<Figure size 640x480 with 1 Axes>"
      ]
     },
     "metadata": {},
     "output_type": "display_data"
    },
    {
     "data": {
      "text/plain": [
       "<Figure size 640x480 with 1 Axes>"
      ]
     },
     "metadata": {},
     "output_type": "display_data"
    },
    {
     "data": {
      "text/plain": [
       "<Figure size 640x480 with 1 Axes>"
      ]
     },
     "metadata": {},
     "output_type": "display_data"
    },
    {
     "data": {
      "text/plain": [
       "<Figure size 640x480 with 1 Axes>"
      ]
     },
     "metadata": {},
     "output_type": "display_data"
    },
    {
     "data": {
      "text/plain": [
       "<Figure size 640x480 with 1 Axes>"
      ]
     },
     "metadata": {},
     "output_type": "display_data"
    },
    {
     "data": {
      "text/plain": [
       "<Figure size 640x480 with 1 Axes>"
      ]
     },
     "metadata": {},
     "output_type": "display_data"
    },
    {
     "data": {
      "text/plain": [
       "<Figure size 640x480 with 1 Axes>"
      ]
     },
     "metadata": {},
     "output_type": "display_data"
    },
    {
     "name": "stdout",
     "output_type": "stream",
     "text": [
      "offset by 00 days\n",
      "Pearsons correlation: -0.508\n",
      "Pearsons p value: 0.005\n",
      "Spearmans correlation: -0.410\n",
      "Spearmans p value: 0.027\n",
      "\n"
     ]
    }
   ],
   "source": [
    "run study_mastercode.py"
   ]
  },
  {
   "cell_type": "markdown",
   "metadata": {},
   "source": [
    "# "
   ]
  },
  {
   "cell_type": "code",
   "execution_count": 3,
   "metadata": {},
   "outputs": [
    {
     "name": "stdout",
     "output_type": "stream",
     "text": [
      "[[8.650860269638779, 13.313896339579689, 10.197928600591698, 8.955310920736784, 9.304686028920122, 9.433494532471638, 8.7479246456223, 7.432837219342691, 6.886714280673516, 6.841920156233627, 9.71251993063081, 13.313415042995773, 10.197618976659932, 10.197618976659932, 8.849197515836055, 13.313321956358562, 10.197595538609344, 10.025869727269605, 10.787937818401337, 12.137577460804929, 12.878951160219616, 10.577361830218827, 9.182490969529969, 9.066071767966887, 15.72687821580697, 11.015035853975892, 8.55763059789362, 7.727934305968892, 7.85762950600654], [41.182505529706916, 21.107969750604198, 30.085969394334853, 40.93499005315418, 27.714130150048046, 31.30154998541737, 37.84545009706547, 62.00550538348785, 69.31471805599453, 69.31471805599453, 22.96102814006401, 19.0092861101892, 24.034578483493213, 24.034578483493213, 31.543159868398565, 18.638652314945467, 22.88388169301538, 24.68422682634085, 22.27579164038614, 21.653191842915128, 21.607395795457116, 25.244592282823906, 31.39774841769542, 28.62154485179317, 17.23186309868258, 21.74536879480309, 32.77647039741632, 37.26740355132666, 35.74356656897457], array([0.04404997, 0.05181696, 0.06782007, 0.06625259, 0.05292479,\n",
      "       0.05865724, 0.07664234, 0.04063205, 0.06593407, 0.04735596,\n",
      "       0.04732351, 0.05646481, 0.06152584, 0.06510851, 0.03006873,\n",
      "       0.09050179, 0.04351939, 0.04261645, 0.05181347, 0.03969957,\n",
      "       0.03043478, 0.0443686 , 0.08695652, 0.05283019, 0.05470738,\n",
      "       0.01221167, 0.0398293 , 0.07822686, 0.03730273])]\n"
     ]
    }
   ],
   "source": [
    "print(outputdata)"
   ]
  },
  {
   "cell_type": "code",
   "execution_count": null,
   "metadata": {},
   "outputs": [],
   "source": []
  }
 ],
 "metadata": {
  "kernelspec": {
   "display_name": "Python 3",
   "language": "python",
   "name": "python3"
  },
  "language_info": {
   "codemirror_mode": {
    "name": "ipython",
    "version": 3
   },
   "file_extension": ".py",
   "mimetype": "text/x-python",
   "name": "python",
   "nbconvert_exporter": "python",
   "pygments_lexer": "ipython3",
   "version": "3.5.3"
  }
 },
 "nbformat": 4,
 "nbformat_minor": 2
}
